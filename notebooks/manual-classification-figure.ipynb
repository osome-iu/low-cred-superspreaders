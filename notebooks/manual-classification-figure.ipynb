{
 "cells": [
  {
   "cell_type": "markdown",
   "id": "fae226fd",
   "metadata": {},
   "source": [
    "### Create the figure for the manual classification"
   ]
  },
  {
   "cell_type": "code",
   "execution_count": 1,
   "id": "b7d12acb",
   "metadata": {},
   "outputs": [],
   "source": [
    "import altair as alt\n",
    "import numpy as np\n",
    "import pandas as pd\n",
    "\n",
    "import matplotlib as mpl\n",
    "import matplotlib.pyplot as plt\n",
    "import matplotlib.gridspec as gridspec\n",
    "\n",
    "import sys\n",
    "\n",
    "sys.path.insert(0, \"../src_clean\")\n",
    "from utils import Loader\n",
    "l = Loader()"
   ]
  },
  {
   "cell_type": "markdown",
   "id": "76ceda81",
   "metadata": {},
   "source": [
    "### Load the data"
   ]
  },
  {
   "cell_type": "code",
   "execution_count": 2,
   "id": "3814469a",
   "metadata": {},
   "outputs": [],
   "source": [
    "# V2 error data\n",
    "error_data = pd.read_csv(\"../data/clean_errors_data.csv\", dtype={'user_id':str})\n",
    "\n",
    "# Final annotations based on majority labels\n",
    "finalized_annotations = pd.read_parquet(\"../data/FINAL_ANNOTATIONS.parquet\")\n",
    "\n",
    "# Accounts with any political affiliation\n",
    "final_political_only = finalized_annotations[finalized_annotations['political_affiliation'] != 'n/a'].copy()\n",
    "final_political_only.loc[:,'label'] = 'any political affiliation'\n",
    "\n",
    "# Follower count data\n",
    "fcounts = pd.read_csv(\n",
    "    \"../data/correlation_rts_removed_w_followers_count.csv\",\n",
    "    index_col=0,\n",
    "    dtype={'user_ids':str}\n",
    ")[[\"user_ids\",\"followers_count\"]]"
   ]
  },
  {
   "cell_type": "code",
   "execution_count": 3,
   "id": "21760735",
   "metadata": {},
   "outputs": [
    {
     "data": {
      "text/html": [
       "<div>\n",
       "<style scoped>\n",
       "    .dataframe tbody tr th:only-of-type {\n",
       "        vertical-align: middle;\n",
       "    }\n",
       "\n",
       "    .dataframe tbody tr th {\n",
       "        vertical-align: top;\n",
       "    }\n",
       "\n",
       "    .dataframe thead th {\n",
       "        text-align: right;\n",
       "    }\n",
       "</style>\n",
       "<table border=\"1\" class=\"dataframe\">\n",
       "  <thead>\n",
       "    <tr style=\"text-align: right;\">\n",
       "      <th></th>\n",
       "      <th>user_id</th>\n",
       "      <th>status</th>\n",
       "      <th>twitter_error</th>\n",
       "    </tr>\n",
       "  </thead>\n",
       "  <tbody>\n",
       "    <tr>\n",
       "      <th>0</th>\n",
       "      <td>1204429316219691008</td>\n",
       "      <td>User has been suspended</td>\n",
       "      <td>https://api.twitter.com/2/problems/resource-no...</td>\n",
       "    </tr>\n",
       "    <tr>\n",
       "      <th>1</th>\n",
       "      <td>1229861495326093312</td>\n",
       "      <td>User has been suspended</td>\n",
       "      <td>https://api.twitter.com/2/problems/resource-no...</td>\n",
       "    </tr>\n",
       "    <tr>\n",
       "      <th>2</th>\n",
       "      <td>1211401123275296770</td>\n",
       "      <td>Could not find user with ids</td>\n",
       "      <td>https://api.twitter.com/2/problems/resource-no...</td>\n",
       "    </tr>\n",
       "    <tr>\n",
       "      <th>3</th>\n",
       "      <td>2994893355</td>\n",
       "      <td>User has been suspended</td>\n",
       "      <td>https://api.twitter.com/2/problems/resource-no...</td>\n",
       "    </tr>\n",
       "    <tr>\n",
       "      <th>4</th>\n",
       "      <td>1083180973276229632</td>\n",
       "      <td>User has been suspended</td>\n",
       "      <td>https://api.twitter.com/2/problems/resource-no...</td>\n",
       "    </tr>\n",
       "    <tr>\n",
       "      <th>...</th>\n",
       "      <td>...</td>\n",
       "      <td>...</td>\n",
       "      <td>...</td>\n",
       "    </tr>\n",
       "    <tr>\n",
       "      <th>14090</th>\n",
       "      <td>1096479510046953473</td>\n",
       "      <td>User has been suspended</td>\n",
       "      <td>https://api.twitter.com/2/problems/resource-no...</td>\n",
       "    </tr>\n",
       "    <tr>\n",
       "      <th>14091</th>\n",
       "      <td>176406752</td>\n",
       "      <td>User has been suspended</td>\n",
       "      <td>https://api.twitter.com/2/problems/resource-no...</td>\n",
       "    </tr>\n",
       "    <tr>\n",
       "      <th>14092</th>\n",
       "      <td>39115118</td>\n",
       "      <td>User has been suspended</td>\n",
       "      <td>https://api.twitter.com/2/problems/resource-no...</td>\n",
       "    </tr>\n",
       "    <tr>\n",
       "      <th>14093</th>\n",
       "      <td>1187142124980068353</td>\n",
       "      <td>User has been suspended</td>\n",
       "      <td>https://api.twitter.com/2/problems/resource-no...</td>\n",
       "    </tr>\n",
       "    <tr>\n",
       "      <th>14094</th>\n",
       "      <td>2440059511</td>\n",
       "      <td>Could not find user with ids</td>\n",
       "      <td>https://api.twitter.com/2/problems/resource-no...</td>\n",
       "    </tr>\n",
       "  </tbody>\n",
       "</table>\n",
       "<p>14095 rows × 3 columns</p>\n",
       "</div>"
      ],
      "text/plain": [
       "                   user_id                        status  \\\n",
       "0      1204429316219691008       User has been suspended   \n",
       "1      1229861495326093312       User has been suspended   \n",
       "2      1211401123275296770  Could not find user with ids   \n",
       "3               2994893355       User has been suspended   \n",
       "4      1083180973276229632       User has been suspended   \n",
       "...                    ...                           ...   \n",
       "14090  1096479510046953473       User has been suspended   \n",
       "14091            176406752       User has been suspended   \n",
       "14092             39115118       User has been suspended   \n",
       "14093  1187142124980068353       User has been suspended   \n",
       "14094           2440059511  Could not find user with ids   \n",
       "\n",
       "                                           twitter_error  \n",
       "0      https://api.twitter.com/2/problems/resource-no...  \n",
       "1      https://api.twitter.com/2/problems/resource-no...  \n",
       "2      https://api.twitter.com/2/problems/resource-no...  \n",
       "3      https://api.twitter.com/2/problems/resource-no...  \n",
       "4      https://api.twitter.com/2/problems/resource-no...  \n",
       "...                                                  ...  \n",
       "14090  https://api.twitter.com/2/problems/resource-no...  \n",
       "14091  https://api.twitter.com/2/problems/resource-no...  \n",
       "14092  https://api.twitter.com/2/problems/resource-no...  \n",
       "14093  https://api.twitter.com/2/problems/resource-no...  \n",
       "14094  https://api.twitter.com/2/problems/resource-no...  \n",
       "\n",
       "[14095 rows x 3 columns]"
      ]
     },
     "execution_count": 3,
     "metadata": {},
     "output_type": "execute_result"
    }
   ],
   "source": [
    "error_data"
   ]
  },
  {
   "cell_type": "code",
   "execution_count": 4,
   "id": "69e8f627",
   "metadata": {},
   "outputs": [
    {
     "data": {
      "text/html": [
       "<div>\n",
       "<style scoped>\n",
       "    .dataframe tbody tr th:only-of-type {\n",
       "        vertical-align: middle;\n",
       "    }\n",
       "\n",
       "    .dataframe tbody tr th {\n",
       "        vertical-align: top;\n",
       "    }\n",
       "\n",
       "    .dataframe thead th {\n",
       "        text-align: right;\n",
       "    }\n",
       "</style>\n",
       "<table border=\"1\" class=\"dataframe\">\n",
       "  <thead>\n",
       "    <tr style=\"text-align: right;\">\n",
       "      <th></th>\n",
       "      <th>user_id</th>\n",
       "      <th>status</th>\n",
       "      <th>twitter_error</th>\n",
       "    </tr>\n",
       "  </thead>\n",
       "  <tbody>\n",
       "    <tr>\n",
       "      <th>0</th>\n",
       "      <td>1204429316219691008</td>\n",
       "      <td>User has been suspended</td>\n",
       "      <td>https://api.twitter.com/2/problems/resource-no...</td>\n",
       "    </tr>\n",
       "    <tr>\n",
       "      <th>1</th>\n",
       "      <td>1229861495326093312</td>\n",
       "      <td>User has been suspended</td>\n",
       "      <td>https://api.twitter.com/2/problems/resource-no...</td>\n",
       "    </tr>\n",
       "    <tr>\n",
       "      <th>2</th>\n",
       "      <td>1211401123275296770</td>\n",
       "      <td>Could not find user with ids</td>\n",
       "      <td>https://api.twitter.com/2/problems/resource-no...</td>\n",
       "    </tr>\n",
       "    <tr>\n",
       "      <th>3</th>\n",
       "      <td>2994893355</td>\n",
       "      <td>User has been suspended</td>\n",
       "      <td>https://api.twitter.com/2/problems/resource-no...</td>\n",
       "    </tr>\n",
       "    <tr>\n",
       "      <th>4</th>\n",
       "      <td>1083180973276229632</td>\n",
       "      <td>User has been suspended</td>\n",
       "      <td>https://api.twitter.com/2/problems/resource-no...</td>\n",
       "    </tr>\n",
       "    <tr>\n",
       "      <th>...</th>\n",
       "      <td>...</td>\n",
       "      <td>...</td>\n",
       "      <td>...</td>\n",
       "    </tr>\n",
       "    <tr>\n",
       "      <th>14090</th>\n",
       "      <td>1096479510046953473</td>\n",
       "      <td>User has been suspended</td>\n",
       "      <td>https://api.twitter.com/2/problems/resource-no...</td>\n",
       "    </tr>\n",
       "    <tr>\n",
       "      <th>14091</th>\n",
       "      <td>176406752</td>\n",
       "      <td>User has been suspended</td>\n",
       "      <td>https://api.twitter.com/2/problems/resource-no...</td>\n",
       "    </tr>\n",
       "    <tr>\n",
       "      <th>14092</th>\n",
       "      <td>39115118</td>\n",
       "      <td>User has been suspended</td>\n",
       "      <td>https://api.twitter.com/2/problems/resource-no...</td>\n",
       "    </tr>\n",
       "    <tr>\n",
       "      <th>14093</th>\n",
       "      <td>1187142124980068353</td>\n",
       "      <td>User has been suspended</td>\n",
       "      <td>https://api.twitter.com/2/problems/resource-no...</td>\n",
       "    </tr>\n",
       "    <tr>\n",
       "      <th>14094</th>\n",
       "      <td>2440059511</td>\n",
       "      <td>Could not find user with ids</td>\n",
       "      <td>https://api.twitter.com/2/problems/resource-no...</td>\n",
       "    </tr>\n",
       "  </tbody>\n",
       "</table>\n",
       "<p>14095 rows × 3 columns</p>\n",
       "</div>"
      ],
      "text/plain": [
       "                   user_id                        status  \\\n",
       "0      1204429316219691008       User has been suspended   \n",
       "1      1229861495326093312       User has been suspended   \n",
       "2      1211401123275296770  Could not find user with ids   \n",
       "3               2994893355       User has been suspended   \n",
       "4      1083180973276229632       User has been suspended   \n",
       "...                    ...                           ...   \n",
       "14090  1096479510046953473       User has been suspended   \n",
       "14091            176406752       User has been suspended   \n",
       "14092             39115118       User has been suspended   \n",
       "14093  1187142124980068353       User has been suspended   \n",
       "14094           2440059511  Could not find user with ids   \n",
       "\n",
       "                                           twitter_error  \n",
       "0      https://api.twitter.com/2/problems/resource-no...  \n",
       "1      https://api.twitter.com/2/problems/resource-no...  \n",
       "2      https://api.twitter.com/2/problems/resource-no...  \n",
       "3      https://api.twitter.com/2/problems/resource-no...  \n",
       "4      https://api.twitter.com/2/problems/resource-no...  \n",
       "...                                                  ...  \n",
       "14090  https://api.twitter.com/2/problems/resource-no...  \n",
       "14091  https://api.twitter.com/2/problems/resource-no...  \n",
       "14092  https://api.twitter.com/2/problems/resource-no...  \n",
       "14093  https://api.twitter.com/2/problems/resource-no...  \n",
       "14094  https://api.twitter.com/2/problems/resource-no...  \n",
       "\n",
       "[14095 rows x 3 columns]"
      ]
     },
     "execution_count": 4,
     "metadata": {},
     "output_type": "execute_result"
    }
   ],
   "source": [
    "l.load_user_data(name=\"v2\",info_type=\"errors\")"
   ]
  },
  {
   "cell_type": "code",
   "execution_count": 5,
   "id": "594b81c8",
   "metadata": {},
   "outputs": [
    {
     "data": {
      "text/html": [
       "<div>\n",
       "<style scoped>\n",
       "    .dataframe tbody tr th:only-of-type {\n",
       "        vertical-align: middle;\n",
       "    }\n",
       "\n",
       "    .dataframe tbody tr th {\n",
       "        vertical-align: top;\n",
       "    }\n",
       "\n",
       "    .dataframe thead th {\n",
       "        text-align: right;\n",
       "    }\n",
       "</style>\n",
       "<table border=\"1\" class=\"dataframe\">\n",
       "  <thead>\n",
       "    <tr style=\"text-align: right;\">\n",
       "      <th></th>\n",
       "      <th>user_id</th>\n",
       "      <th>classification</th>\n",
       "      <th>political_affiliation</th>\n",
       "    </tr>\n",
       "  </thead>\n",
       "  <tbody>\n",
       "    <tr>\n",
       "      <th>0</th>\n",
       "      <td>861186587144577025</td>\n",
       "      <td>not active</td>\n",
       "      <td>n/a</td>\n",
       "    </tr>\n",
       "    <tr>\n",
       "      <th>1</th>\n",
       "      <td>1134618385495527425</td>\n",
       "      <td>other</td>\n",
       "      <td>n/a</td>\n",
       "    </tr>\n",
       "    <tr>\n",
       "      <th>2</th>\n",
       "      <td>875017115979403264</td>\n",
       "      <td>not active</td>\n",
       "      <td>n/a</td>\n",
       "    </tr>\n",
       "    <tr>\n",
       "      <th>3</th>\n",
       "      <td>1199522589573554176</td>\n",
       "      <td>not active</td>\n",
       "      <td>n/a</td>\n",
       "    </tr>\n",
       "    <tr>\n",
       "      <th>4</th>\n",
       "      <td>864934909961523200</td>\n",
       "      <td>not active</td>\n",
       "      <td>n/a</td>\n",
       "    </tr>\n",
       "    <tr>\n",
       "      <th>...</th>\n",
       "      <td>...</td>\n",
       "      <td>...</td>\n",
       "      <td>...</td>\n",
       "    </tr>\n",
       "    <tr>\n",
       "      <th>227</th>\n",
       "      <td>16269666</td>\n",
       "      <td>media outlet</td>\n",
       "      <td>n/a</td>\n",
       "    </tr>\n",
       "    <tr>\n",
       "      <th>228</th>\n",
       "      <td>73928096</td>\n",
       "      <td>organization</td>\n",
       "      <td>n/a</td>\n",
       "    </tr>\n",
       "    <tr>\n",
       "      <th>229</th>\n",
       "      <td>594886554</td>\n",
       "      <td>political</td>\n",
       "      <td>right</td>\n",
       "    </tr>\n",
       "    <tr>\n",
       "      <th>230</th>\n",
       "      <td>375721095</td>\n",
       "      <td>media outlet</td>\n",
       "      <td>n/a</td>\n",
       "    </tr>\n",
       "    <tr>\n",
       "      <th>231</th>\n",
       "      <td>341194704</td>\n",
       "      <td>political</td>\n",
       "      <td>right</td>\n",
       "    </tr>\n",
       "  </tbody>\n",
       "</table>\n",
       "<p>232 rows × 3 columns</p>\n",
       "</div>"
      ],
      "text/plain": [
       "                 user_id classification political_affiliation\n",
       "0     861186587144577025     not active                   n/a\n",
       "1    1134618385495527425          other                   n/a\n",
       "2     875017115979403264     not active                   n/a\n",
       "3    1199522589573554176     not active                   n/a\n",
       "4     864934909961523200     not active                   n/a\n",
       "..                   ...            ...                   ...\n",
       "227             16269666   media outlet                   n/a\n",
       "228             73928096   organization                   n/a\n",
       "229            594886554      political                 right\n",
       "230            375721095   media outlet                   n/a\n",
       "231            341194704      political                 right\n",
       "\n",
       "[232 rows x 3 columns]"
      ]
     },
     "execution_count": 5,
     "metadata": {},
     "output_type": "execute_result"
    }
   ],
   "source": [
    "finalized_annotations"
   ]
  },
  {
   "cell_type": "markdown",
   "id": "b5124672",
   "metadata": {},
   "source": [
    "### Number/percent of non-active that were suspended"
   ]
  },
  {
   "cell_type": "code",
   "execution_count": 6,
   "id": "32c35488",
   "metadata": {},
   "outputs": [
    {
     "name": "stdout",
     "output_type": "stream",
     "text": [
      "Number of non-active accounts suspended: 111\n",
      "Proportion non-active suspended: 0.8671875\n"
     ]
    }
   ],
   "source": [
    "not_active = finalized_annotations[finalized_annotations.classification == \"not active\"]\n",
    "\n",
    "val_counts = pd.merge(\n",
    "    not_active,\n",
    "    error_data,\n",
    "    on='user_id'\n",
    ")['status'].value_counts()\n",
    "\n",
    "num_suspended = val_counts['User has been suspended'] \n",
    "print(f\"Number of non-active accounts suspended: {num_suspended}\")\n",
    "print(f\"Proportion non-active suspended: {num_suspended/len(not_active)}\")"
   ]
  },
  {
   "cell_type": "markdown",
   "id": "176bbf3e",
   "metadata": {},
   "source": [
    "### Load the top FIBers and influential users and calculate the proportion from each that have been suspended"
   ]
  },
  {
   "cell_type": "code",
   "execution_count": 7,
   "id": "7a651245",
   "metadata": {},
   "outputs": [],
   "source": [
    "top_fibers = l.load_iffyp_ss()[['user_id']]\n",
    "num_top_users = len(top_fibers)\n",
    "top_fibers['type'] ='fib'\n",
    "\n",
    "top_inf = l.load_iffyp_baseline(\n",
    "    name=\"influential\"\n",
    ").head(num_top_users)[\n",
    "    ['original_tweeter_user_id']\n",
    "].rename(columns={'original_tweeter_user_id':'user_id'})\n",
    "top_inf['type'] ='inf'\n",
    "\n",
    "top_fib_and_inf = pd.concat([top_fibers, top_inf])"
   ]
  },
  {
   "cell_type": "code",
   "execution_count": 8,
   "id": "72533af5",
   "metadata": {},
   "outputs": [
    {
     "data": {
      "text/html": [
       "<div>\n",
       "<style scoped>\n",
       "    .dataframe tbody tr th:only-of-type {\n",
       "        vertical-align: middle;\n",
       "    }\n",
       "\n",
       "    .dataframe tbody tr th {\n",
       "        vertical-align: top;\n",
       "    }\n",
       "\n",
       "    .dataframe thead th {\n",
       "        text-align: right;\n",
       "    }\n",
       "</style>\n",
       "<table border=\"1\" class=\"dataframe\">\n",
       "  <thead>\n",
       "    <tr style=\"text-align: right;\">\n",
       "      <th></th>\n",
       "      <th>user_id</th>\n",
       "      <th>type</th>\n",
       "    </tr>\n",
       "  </thead>\n",
       "  <tbody>\n",
       "    <tr>\n",
       "      <th>0</th>\n",
       "      <td>4765364386</td>\n",
       "      <td>fib</td>\n",
       "    </tr>\n",
       "    <tr>\n",
       "      <th>1</th>\n",
       "      <td>3530404094</td>\n",
       "      <td>fib</td>\n",
       "    </tr>\n",
       "    <tr>\n",
       "      <th>2</th>\n",
       "      <td>41634520</td>\n",
       "      <td>fib</td>\n",
       "    </tr>\n",
       "    <tr>\n",
       "      <th>3</th>\n",
       "      <td>232901331</td>\n",
       "      <td>fib</td>\n",
       "    </tr>\n",
       "    <tr>\n",
       "      <th>4</th>\n",
       "      <td>2981776113</td>\n",
       "      <td>fib</td>\n",
       "    </tr>\n",
       "    <tr>\n",
       "      <th>...</th>\n",
       "      <td>...</td>\n",
       "      <td>...</td>\n",
       "    </tr>\n",
       "    <tr>\n",
       "      <th>176</th>\n",
       "      <td>915231714724712448</td>\n",
       "      <td>inf</td>\n",
       "    </tr>\n",
       "    <tr>\n",
       "      <th>177</th>\n",
       "      <td>11454572</td>\n",
       "      <td>inf</td>\n",
       "    </tr>\n",
       "    <tr>\n",
       "      <th>178</th>\n",
       "      <td>1037648264672079872</td>\n",
       "      <td>inf</td>\n",
       "    </tr>\n",
       "    <tr>\n",
       "      <th>179</th>\n",
       "      <td>806347865073315844</td>\n",
       "      <td>inf</td>\n",
       "    </tr>\n",
       "    <tr>\n",
       "      <th>180</th>\n",
       "      <td>49682880</td>\n",
       "      <td>inf</td>\n",
       "    </tr>\n",
       "  </tbody>\n",
       "</table>\n",
       "<p>362 rows × 2 columns</p>\n",
       "</div>"
      ],
      "text/plain": [
       "                 user_id type\n",
       "0             4765364386  fib\n",
       "1             3530404094  fib\n",
       "2               41634520  fib\n",
       "3              232901331  fib\n",
       "4             2981776113  fib\n",
       "..                   ...  ...\n",
       "176   915231714724712448  inf\n",
       "177             11454572  inf\n",
       "178  1037648264672079872  inf\n",
       "179   806347865073315844  inf\n",
       "180             49682880  inf\n",
       "\n",
       "[362 rows x 2 columns]"
      ]
     },
     "execution_count": 8,
     "metadata": {},
     "output_type": "execute_result"
    }
   ],
   "source": [
    "top_fib_and_inf"
   ]
  },
  {
   "cell_type": "code",
   "execution_count": 9,
   "id": "e9772238",
   "metadata": {},
   "outputs": [
    {
     "name": "stdout",
     "output_type": "stream",
     "text": [
      "Values:\n",
      "fib    86\n",
      "inf    78\n",
      "Name: type, dtype: int64\n",
      "Proportions:\n",
      "fib    0.475138\n",
      "inf    0.430939\n",
      "Name: type, dtype: float64\n"
     ]
    }
   ],
   "source": [
    "worst_w_errors = error_data.merge(top_fib_and_inf, on='user_id')\n",
    "worst_w_suspensions = worst_w_errors[\n",
    "    worst_w_errors.status == \"User has been suspended\"\n",
    "]\n",
    "\n",
    "counts = worst_w_suspensions.type.value_counts()\n",
    "\n",
    "\n",
    "print(f\"Values:\\n{counts}\")\n",
    "\n",
    "\n",
    "props = counts / num_top_users\n",
    "print(f\"Proportions:\\n{props}\")\n"
   ]
  },
  {
   "cell_type": "markdown",
   "id": "641eb59d",
   "metadata": {},
   "source": [
    "### Count and proportion of each category for only the activate accounts"
   ]
  },
  {
   "cell_type": "code",
   "execution_count": 10,
   "id": "66d04dce",
   "metadata": {},
   "outputs": [
    {
     "data": {
      "text/plain": [
       "political       54\n",
       "other           14\n",
       "media outlet    12\n",
       "media aff.       7\n",
       "intellectual     5\n",
       "new media        4\n",
       "organization     4\n",
       "pub. service     2\n",
       "broad. news      1\n",
       "hard news        1\n",
       "Name: classification, dtype: int64"
      ]
     },
     "execution_count": 10,
     "metadata": {},
     "output_type": "execute_result"
    }
   ],
   "source": [
    "finalized_annotations[\n",
    "    finalized_annotations['classification'] != \"not active\"\n",
    "]['classification'].value_counts()"
   ]
  },
  {
   "cell_type": "code",
   "execution_count": 11,
   "id": "d53539c7",
   "metadata": {},
   "outputs": [
    {
     "data": {
      "text/plain": [
       "political       51.923077\n",
       "other           13.461538\n",
       "media outlet    11.538462\n",
       "media aff.       6.730769\n",
       "intellectual     4.807692\n",
       "new media        3.846154\n",
       "organization     3.846154\n",
       "pub. service     1.923077\n",
       "broad. news      0.961538\n",
       "hard news        0.961538\n",
       "Name: classification, dtype: float64"
      ]
     },
     "execution_count": 11,
     "metadata": {},
     "output_type": "execute_result"
    }
   ],
   "source": [
    "active = finalized_annotations[\n",
    "    finalized_annotations['classification'] != \"not active\"\n",
    "]\n",
    "\n",
    "active['classification'].value_counts(normalize=True) * 100"
   ]
  },
  {
   "cell_type": "markdown",
   "id": "a3132ad8",
   "metadata": {},
   "source": [
    "### Calculate the median number of followers for the `other` group"
   ]
  },
  {
   "cell_type": "code",
   "execution_count": 12,
   "id": "ad25ffb7",
   "metadata": {},
   "outputs": [
    {
     "data": {
      "text/html": [
       "<div>\n",
       "<style scoped>\n",
       "    .dataframe tbody tr th:only-of-type {\n",
       "        vertical-align: middle;\n",
       "    }\n",
       "\n",
       "    .dataframe tbody tr th {\n",
       "        vertical-align: top;\n",
       "    }\n",
       "\n",
       "    .dataframe thead th {\n",
       "        text-align: right;\n",
       "    }\n",
       "</style>\n",
       "<table border=\"1\" class=\"dataframe\">\n",
       "  <thead>\n",
       "    <tr style=\"text-align: right;\">\n",
       "      <th></th>\n",
       "      <th>user_id</th>\n",
       "      <th>classification</th>\n",
       "      <th>political_affiliation</th>\n",
       "    </tr>\n",
       "  </thead>\n",
       "  <tbody>\n",
       "    <tr>\n",
       "      <th>1</th>\n",
       "      <td>1134618385495527425</td>\n",
       "      <td>other</td>\n",
       "      <td>n/a</td>\n",
       "    </tr>\n",
       "    <tr>\n",
       "      <th>12</th>\n",
       "      <td>1018425398869282817</td>\n",
       "      <td>other</td>\n",
       "      <td>n/a</td>\n",
       "    </tr>\n",
       "    <tr>\n",
       "      <th>27</th>\n",
       "      <td>1274690550</td>\n",
       "      <td>other</td>\n",
       "      <td>n/a</td>\n",
       "    </tr>\n",
       "    <tr>\n",
       "      <th>64</th>\n",
       "      <td>1071493866489044993</td>\n",
       "      <td>other</td>\n",
       "      <td>n/a</td>\n",
       "    </tr>\n",
       "    <tr>\n",
       "      <th>96</th>\n",
       "      <td>94120026</td>\n",
       "      <td>other</td>\n",
       "      <td>n/a</td>\n",
       "    </tr>\n",
       "  </tbody>\n",
       "</table>\n",
       "</div>"
      ],
      "text/plain": [
       "                user_id classification political_affiliation\n",
       "1   1134618385495527425          other                   n/a\n",
       "12  1018425398869282817          other                   n/a\n",
       "27           1274690550          other                   n/a\n",
       "64  1071493866489044993          other                   n/a\n",
       "96             94120026          other                   n/a"
      ]
     },
     "execution_count": 12,
     "metadata": {},
     "output_type": "execute_result"
    }
   ],
   "source": [
    "other_only = finalized_annotations[finalized_annotations.classification == \"other\"].copy()\n",
    "other_only.head()"
   ]
  },
  {
   "cell_type": "code",
   "execution_count": 13,
   "id": "87456dfe",
   "metadata": {},
   "outputs": [
    {
     "data": {
      "text/plain": [
       "13774.766691013363"
      ]
     },
     "execution_count": 13,
     "metadata": {},
     "output_type": "execute_result"
    }
   ],
   "source": [
    "# merge users with the follower count dataframe\n",
    "other_w_fcounts = pd.merge(\n",
    "    other_only,\n",
    "    fcounts,\n",
    "    left_on=\"user_id\",\n",
    "    right_on=\"user_ids\"\n",
    ")\n",
    "\n",
    "# Ensure we have the same number of users\n",
    "assert len(other_only) == len(other_w_fcounts), \"Missing users!\"\n",
    "\n",
    "# In the paper we round up to an even 14k\n",
    "other_w_fcounts.followers_count.median()"
   ]
  },
  {
   "cell_type": "markdown",
   "id": "1160308b",
   "metadata": {},
   "source": [
    "### Calculate the proportion of accounts that are \"media related\""
   ]
  },
  {
   "cell_type": "code",
   "execution_count": 14,
   "id": "18a3d8e9",
   "metadata": {},
   "outputs": [
    {
     "name": "stdout",
     "output_type": "stream",
     "text": [
      "Number of media related: 19\n",
      "Proportion of active that are media related: 0.18269230769230768\n",
      "Percent of active that are media related: 18.269231%\n"
     ]
    }
   ],
   "source": [
    "media_related = finalized_annotations[\n",
    "    finalized_annotations.classification.isin(['media aff.', 'media outlet'])\n",
    "].copy()\n",
    "\n",
    "num_media = len(media_related)\n",
    "num_active = len(active)\n",
    "\n",
    "print(f\"Number of media related: {num_media}\")\n",
    "print(f\"Proportion of active that are media related: {num_media/num_active}\")\n",
    "print(f\"Percent of active that are media related: {num_media/num_active:%}\")"
   ]
  },
  {
   "cell_type": "markdown",
   "id": "ec6d8911",
   "metadata": {},
   "source": [
    "### Calculate the number/proportion of accounts that are left/right for those categorized as `political`"
   ]
  },
  {
   "cell_type": "code",
   "execution_count": 15,
   "id": "c8908098",
   "metadata": {},
   "outputs": [
    {
     "data": {
      "text/html": [
       "<div>\n",
       "<style scoped>\n",
       "    .dataframe tbody tr th:only-of-type {\n",
       "        vertical-align: middle;\n",
       "    }\n",
       "\n",
       "    .dataframe tbody tr th {\n",
       "        vertical-align: top;\n",
       "    }\n",
       "\n",
       "    .dataframe thead th {\n",
       "        text-align: right;\n",
       "    }\n",
       "</style>\n",
       "<table border=\"1\" class=\"dataframe\">\n",
       "  <thead>\n",
       "    <tr style=\"text-align: right;\">\n",
       "      <th></th>\n",
       "      <th>user_id</th>\n",
       "      <th>classification</th>\n",
       "      <th>political_affiliation</th>\n",
       "    </tr>\n",
       "  </thead>\n",
       "  <tbody>\n",
       "    <tr>\n",
       "      <th>6</th>\n",
       "      <td>3314383418</td>\n",
       "      <td>political</td>\n",
       "      <td>right</td>\n",
       "    </tr>\n",
       "    <tr>\n",
       "      <th>13</th>\n",
       "      <td>2176476241</td>\n",
       "      <td>political</td>\n",
       "      <td>right</td>\n",
       "    </tr>\n",
       "    <tr>\n",
       "      <th>23</th>\n",
       "      <td>186562905</td>\n",
       "      <td>political</td>\n",
       "      <td>right</td>\n",
       "    </tr>\n",
       "    <tr>\n",
       "      <th>25</th>\n",
       "      <td>1494835716</td>\n",
       "      <td>political</td>\n",
       "      <td>right</td>\n",
       "    </tr>\n",
       "    <tr>\n",
       "      <th>26</th>\n",
       "      <td>4765364386</td>\n",
       "      <td>political</td>\n",
       "      <td>right</td>\n",
       "    </tr>\n",
       "  </tbody>\n",
       "</table>\n",
       "</div>"
      ],
      "text/plain": [
       "       user_id classification political_affiliation\n",
       "6   3314383418      political                 right\n",
       "13  2176476241      political                 right\n",
       "23   186562905      political                 right\n",
       "25  1494835716      political                 right\n",
       "26  4765364386      political                 right"
      ]
     },
     "execution_count": 15,
     "metadata": {},
     "output_type": "execute_result"
    }
   ],
   "source": [
    "pol_only = finalized_annotations[\n",
    "    finalized_annotations.classification == 'political'\n",
    "].copy()\n",
    "pol_only.head()"
   ]
  },
  {
   "cell_type": "code",
   "execution_count": 16,
   "id": "e015c57e",
   "metadata": {},
   "outputs": [
    {
     "data": {
      "text/plain": [
       "right    49\n",
       "left      5\n",
       "Name: political_affiliation, dtype: int64"
      ]
     },
     "execution_count": 16,
     "metadata": {},
     "output_type": "execute_result"
    }
   ],
   "source": [
    "pol_only.political_affiliation.value_counts()"
   ]
  },
  {
   "cell_type": "code",
   "execution_count": 17,
   "id": "6ebf1917",
   "metadata": {},
   "outputs": [
    {
     "data": {
      "text/plain": [
       "right    0.907407\n",
       "left     0.092593\n",
       "Name: political_affiliation, dtype: float64"
      ]
     },
     "execution_count": 17,
     "metadata": {},
     "output_type": "execute_result"
    }
   ],
   "source": [
    "pol_only.political_affiliation.value_counts(normalize=True)"
   ]
  },
  {
   "cell_type": "code",
   "execution_count": null,
   "id": "83262b05",
   "metadata": {},
   "outputs": [],
   "source": []
  },
  {
   "cell_type": "markdown",
   "id": "6e930340",
   "metadata": {},
   "source": [
    "### Calculate the number/proportion of accounts that are left/right for any category with any political affiliation\n",
    "\n",
    "As a reminder, we do the below earlier in the notebook to create the `final_political_only` frame.\n",
    "```py\n",
    "final_political_only = finalized_annotations[finalized_annotations['political_affiliation'] != 'n/a'].copy()\n",
    "final_political_only.loc[:,'label'] = 'any political affiliation'\n",
    "```"
   ]
  },
  {
   "cell_type": "code",
   "execution_count": 18,
   "id": "a56ae2b8",
   "metadata": {},
   "outputs": [
    {
     "data": {
      "text/plain": [
       "right    63\n",
       "left      6\n",
       "Name: political_affiliation, dtype: int64"
      ]
     },
     "execution_count": 18,
     "metadata": {},
     "output_type": "execute_result"
    }
   ],
   "source": [
    "final_political_only.political_affiliation.value_counts()"
   ]
  },
  {
   "cell_type": "code",
   "execution_count": 19,
   "id": "0e534871",
   "metadata": {},
   "outputs": [
    {
     "data": {
      "text/plain": [
       "right    0.913043\n",
       "left     0.086957\n",
       "Name: political_affiliation, dtype: float64"
      ]
     },
     "execution_count": 19,
     "metadata": {},
     "output_type": "execute_result"
    }
   ],
   "source": [
    "final_political_only.political_affiliation.value_counts(normalize=True)"
   ]
  },
  {
   "cell_type": "code",
   "execution_count": null,
   "id": "a9c3a3e6",
   "metadata": {},
   "outputs": [],
   "source": []
  },
  {
   "cell_type": "code",
   "execution_count": null,
   "id": "ff74c234",
   "metadata": {},
   "outputs": [],
   "source": []
  },
  {
   "cell_type": "markdown",
   "id": "c20381c0",
   "metadata": {},
   "source": [
    "### Create the figure"
   ]
  },
  {
   "cell_type": "code",
   "execution_count": null,
   "id": "374ef1ef",
   "metadata": {},
   "outputs": [],
   "source": []
  },
  {
   "cell_type": "code",
   "execution_count": 20,
   "id": "f136753e",
   "metadata": {},
   "outputs": [],
   "source": [
    "leaning_count = final_political_only['political_affiliation'].value_counts().to_frame(\"count\")"
   ]
  },
  {
   "cell_type": "code",
   "execution_count": 21,
   "id": "7b9977cf",
   "metadata": {},
   "outputs": [],
   "source": [
    "# Calculate the counts for each classification and political affiliation\n",
    "counts = finalized_annotations.groupby(['classification', 'political_affiliation']).size().unstack(fill_value=0)\n",
    "\n",
    "# Sort the DataFrame by the total count across all political affiliations in descending order\n",
    "counts = counts.assign(total=counts.sum(axis=1)).sort_values('total', ascending=True)"
   ]
  },
  {
   "cell_type": "code",
   "execution_count": null,
   "id": "f283779e",
   "metadata": {},
   "outputs": [],
   "source": []
  },
  {
   "cell_type": "code",
   "execution_count": 22,
   "id": "c141a1d4",
   "metadata": {
    "scrolled": false
   },
   "outputs": [
    {
     "data": {
      "image/png": "[encoded data removed]",
      "text/plain": [
       "<Figure size 1200x600 with 2 Axes>"
      ]
     },
     "metadata": {},
     "output_type": "display_data"
    }
   ],
   "source": [
    "mpl.rcParams['font.size'] = 14\n",
    "\n",
    "# Create a figure\n",
    "fig = plt.figure(figsize=(12, 6))\n",
    "\n",
    "# Define the grid layout\n",
    "gs = gridspec.GridSpec(2, 1, height_ratios=[.94,.06])\n",
    "ax1 = fig.add_subplot(gs[0])\n",
    "ax2 = fig.add_subplot(gs[1])\n",
    "\n",
    "\n",
    "### Top Figure\n",
    "\n",
    "# Add for left\n",
    "ax1.barh(\n",
    "    y = counts.index,\n",
    "    width = counts['left'],\n",
    "    color = 'blue',\n",
    "    label = 'left',\n",
    "    zorder=3,\n",
    "    \n",
    ")\n",
    "\n",
    "# Add for right\n",
    "ax1.barh(\n",
    "    y = counts.index,\n",
    "    width = counts['right'],\n",
    "    left = counts['left'],\n",
    "    color = 'red',\n",
    "    label = 'right',\n",
    "    zorder=3\n",
    ")\n",
    "\n",
    "# Add for n/a\n",
    "ax1.barh(\n",
    "    y = counts.index,\n",
    "    width = counts['n/a'],\n",
    "    left = counts['left'] + counts['right'],\n",
    "    color = 'lightgrey',\n",
    "    label = 'n/a',\n",
    "    zorder=3\n",
    ")\n",
    "\n",
    "# Add text annotations\n",
    "for idx, data in counts.reset_index().iterrows():\n",
    "    ax1.text(\n",
    "        x = data.total,\n",
    "        y = data.classification,\n",
    "        s = str(data.total),\n",
    "        va='center',\n",
    "        zorder=3\n",
    "    )\n",
    "\n",
    "\n",
    "### Bottom Figure\n",
    "\n",
    "ax2.barh(\n",
    "    y = 'any political affiliation',\n",
    "    width = leaning_count.loc[\"left\"].item(),\n",
    "    color='blue',\n",
    "    left=0,\n",
    "    zorder=3\n",
    ")\n",
    "\n",
    "ax2.barh(\n",
    "    y = 'any political affiliation',\n",
    "    width = leaning_count.loc[\"right\"].item(),\n",
    "    color='red',\n",
    "    left=leaning_count.loc[\"left\"].item(),\n",
    "    zorder=3\n",
    ")\n",
    "\n",
    "ax2.text(\n",
    "    x = leaning_count.loc[\"left\"].item() + leaning_count.loc[\"right\"].item(),\n",
    "    y = 'any political affiliation',\n",
    "    s = str(leaning_count.loc[\"left\"].item() + leaning_count.loc[\"right\"].item()),\n",
    "    va='center'\n",
    ")\n",
    "\n",
    "### Make everything pretty\n",
    "\n",
    "# Add legend\n",
    "ax1.legend(title = \"political affiliation\", loc='lower right')\n",
    "\n",
    "# Add x-axis grid\n",
    "ax1.grid(axis='x',zorder=0)\n",
    "ax2.grid(axis='x',zorder=0)\n",
    "\n",
    "# Remove the borders from both\n",
    "ax1.spines['top'].set_visible(False)\n",
    "ax1.spines['right'].set_visible(False)\n",
    "ax2.spines['top'].set_visible(False)\n",
    "ax2.spines['right'].set_visible(False)\n",
    "\n",
    "# Set xlimits\n",
    "ax1.set_xlim(0,140)\n",
    "ax2.set_xlim(0,140)\n",
    "\n",
    "# Make x-axis pretty\n",
    "ax1.set_xticklabels([])\n",
    "ax2.set_xlabel(\"Number of users\")\n",
    "\n",
    "plt.tight_layout()\n",
    "\n",
    "fig.savefig(\n",
    "    \"../figures/aggregate_classification.pdf\",\n",
    "    bbox_inches='tight',\n",
    "    dpi = 600\n",
    ")"
   ]
  },
  {
   "cell_type": "code",
   "execution_count": null,
   "id": "a8aa8531",
   "metadata": {},
   "outputs": [],
   "source": []
  },
  {
   "cell_type": "code",
   "execution_count": null,
   "id": "2ad5097b",
   "metadata": {},
   "outputs": [],
   "source": []
  }
 ],
 "metadata": {
  "kernelspec": {
   "display_name": "Python 3 (ipykernel)",
   "language": "python",
   "name": "python3"
  },
  "language_info": {
   "codemirror_mode": {
    "name": "ipython",
    "version": 3
   },
   "file_extension": ".py",
   "mimetype": "text/x-python",
   "name": "python",
   "nbconvert_exporter": "python",
   "pygments_lexer": "ipython3",
   "version": "3.9.12"
  }
 },
 "nbformat": 4,
 "nbformat_minor": 5
}
