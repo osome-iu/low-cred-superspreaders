{
 "cells": [
  {
   "cell_type": "markdown",
   "metadata": {},
   "source": [
    "### Here we compare the proportion of low-credibility sources shared, relative to all sources shared, for the top users identified via the FIB-index and Influence metrics."
   ]
  },
  {
   "cell_type": "code",
   "execution_count": 1,
   "metadata": {},
   "outputs": [],
   "source": [
    "import sys\n",
    "sys.path.insert(0, '../src_clean')\n",
    "import glob\n",
    "import os\n",
    "import json\n",
    "import numpy as np\n",
    "import pandas as pd\n",
    "\n",
    "import seaborn as sns\n",
    "import matplotlib as mpl\n",
    "import matplotlib.pyplot as plt\n",
    "import altair as alt\n",
    "from scipy import stats\n",
    "from scipy.stats import mannwhitneyu\n",
    "\n",
    "from utils import mean_diff_bootstrap_ci, cohen_d\n"
   ]
  },
  {
   "cell_type": "markdown",
   "metadata": {},
   "source": [
    "### This loads the proportion of tweets sent by a user that were low credibility"
   ]
  },
  {
   "cell_type": "code",
   "execution_count": 2,
   "metadata": {},
   "outputs": [
    {
     "data": {
      "text/html": [
       "<div>\n",
       "<style scoped>\n",
       "    .dataframe tbody tr th:only-of-type {\n",
       "        vertical-align: middle;\n",
       "    }\n",
       "\n",
       "    .dataframe tbody tr th {\n",
       "        vertical-align: top;\n",
       "    }\n",
       "\n",
       "    .dataframe thead th {\n",
       "        text-align: right;\n",
       "    }\n",
       "</style>\n",
       "<table border=\"1\" class=\"dataframe\">\n",
       "  <thead>\n",
       "    <tr style=\"text-align: right;\">\n",
       "      <th></th>\n",
       "      <th>author_id</th>\n",
       "      <th>user_type</th>\n",
       "      <th>is_low_cred</th>\n",
       "    </tr>\n",
       "  </thead>\n",
       "  <tbody>\n",
       "    <tr>\n",
       "      <th>0</th>\n",
       "      <td>1000141948269678592</td>\n",
       "      <td>both</td>\n",
       "      <td>0.034608</td>\n",
       "    </tr>\n",
       "    <tr>\n",
       "      <th>1</th>\n",
       "      <td>101779040</td>\n",
       "      <td>influential</td>\n",
       "      <td>0.006009</td>\n",
       "    </tr>\n",
       "    <tr>\n",
       "      <th>2</th>\n",
       "      <td>1018425398869282817</td>\n",
       "      <td>both</td>\n",
       "      <td>0.342995</td>\n",
       "    </tr>\n",
       "    <tr>\n",
       "      <th>3</th>\n",
       "      <td>1036239330984054784</td>\n",
       "      <td>fiber</td>\n",
       "      <td>0.104710</td>\n",
       "    </tr>\n",
       "    <tr>\n",
       "      <th>4</th>\n",
       "      <td>1037648264672079872</td>\n",
       "      <td>influential</td>\n",
       "      <td>0.010982</td>\n",
       "    </tr>\n",
       "    <tr>\n",
       "      <th>...</th>\n",
       "      <td>...</td>\n",
       "      <td>...</td>\n",
       "      <td>...</td>\n",
       "    </tr>\n",
       "    <tr>\n",
       "      <th>118</th>\n",
       "      <td>921880207870459904</td>\n",
       "      <td>fiber</td>\n",
       "      <td>0.246560</td>\n",
       "    </tr>\n",
       "    <tr>\n",
       "      <th>119</th>\n",
       "      <td>92928883</td>\n",
       "      <td>fiber</td>\n",
       "      <td>0.020007</td>\n",
       "    </tr>\n",
       "    <tr>\n",
       "      <th>120</th>\n",
       "      <td>94120026</td>\n",
       "      <td>fiber</td>\n",
       "      <td>0.016102</td>\n",
       "    </tr>\n",
       "    <tr>\n",
       "      <th>121</th>\n",
       "      <td>954124423</td>\n",
       "      <td>influential</td>\n",
       "      <td>0.010480</td>\n",
       "    </tr>\n",
       "    <tr>\n",
       "      <th>122</th>\n",
       "      <td>95588504</td>\n",
       "      <td>influential</td>\n",
       "      <td>0.009266</td>\n",
       "    </tr>\n",
       "  </tbody>\n",
       "</table>\n",
       "<p>123 rows × 3 columns</p>\n",
       "</div>"
      ],
      "text/plain": [
       "               author_id    user_type  is_low_cred\n",
       "0    1000141948269678592         both     0.034608\n",
       "1              101779040  influential     0.006009\n",
       "2    1018425398869282817         both     0.342995\n",
       "3    1036239330984054784        fiber     0.104710\n",
       "4    1037648264672079872  influential     0.010982\n",
       "..                   ...          ...          ...\n",
       "118   921880207870459904        fiber     0.246560\n",
       "119             92928883        fiber     0.020007\n",
       "120             94120026        fiber     0.016102\n",
       "121            954124423  influential     0.010480\n",
       "122             95588504  influential     0.009266\n",
       "\n",
       "[123 rows x 3 columns]"
      ]
     },
     "execution_count": 2,
     "metadata": {},
     "output_type": "execute_result"
    }
   ],
   "source": [
    "\n",
    "author_low_cred = pd.read_csv(\"../data/top_fib_inf_mean_prop_tweets_are_low_cred.csv\")\n",
    "author_low_cred"
   ]
  },
  {
   "cell_type": "markdown",
   "metadata": {},
   "source": [
    "### Create two separate frames for the influentials and the fibers. We include the users who are both an influential and a fiber in both of these frames!"
   ]
  },
  {
   "cell_type": "code",
   "execution_count": 3,
   "metadata": {},
   "outputs": [],
   "source": [
    "inf_frame = author_low_cred.loc[(author_low_cred[\"user_type\"] == \"influential\") | (author_low_cred[\"user_type\"] == \"both\"),:].copy()\n",
    "fib_frame = author_low_cred.loc[(author_low_cred[\"user_type\"] == \"fiber\") | (author_low_cred[\"user_type\"] == \"both\"),:].copy()"
   ]
  },
  {
   "cell_type": "code",
   "execution_count": 4,
   "metadata": {},
   "outputs": [
    {
     "data": {
      "text/html": [
       "<div>\n",
       "<style scoped>\n",
       "    .dataframe tbody tr th:only-of-type {\n",
       "        vertical-align: middle;\n",
       "    }\n",
       "\n",
       "    .dataframe tbody tr th {\n",
       "        vertical-align: top;\n",
       "    }\n",
       "\n",
       "    .dataframe thead th {\n",
       "        text-align: right;\n",
       "    }\n",
       "</style>\n",
       "<table border=\"1\" class=\"dataframe\">\n",
       "  <thead>\n",
       "    <tr style=\"text-align: right;\">\n",
       "      <th></th>\n",
       "      <th>author_id</th>\n",
       "      <th>user_type</th>\n",
       "      <th>is_low_cred</th>\n",
       "    </tr>\n",
       "  </thead>\n",
       "  <tbody>\n",
       "    <tr>\n",
       "      <th>0</th>\n",
       "      <td>1000141948269678592</td>\n",
       "      <td>both</td>\n",
       "      <td>0.034608</td>\n",
       "    </tr>\n",
       "    <tr>\n",
       "      <th>1</th>\n",
       "      <td>101779040</td>\n",
       "      <td>influential</td>\n",
       "      <td>0.006009</td>\n",
       "    </tr>\n",
       "    <tr>\n",
       "      <th>2</th>\n",
       "      <td>1018425398869282817</td>\n",
       "      <td>both</td>\n",
       "      <td>0.342995</td>\n",
       "    </tr>\n",
       "    <tr>\n",
       "      <th>4</th>\n",
       "      <td>1037648264672079872</td>\n",
       "      <td>influential</td>\n",
       "      <td>0.010982</td>\n",
       "    </tr>\n",
       "    <tr>\n",
       "      <th>5</th>\n",
       "      <td>1043185714437992449</td>\n",
       "      <td>influential</td>\n",
       "      <td>0.000489</td>\n",
       "    </tr>\n",
       "  </tbody>\n",
       "</table>\n",
       "</div>"
      ],
      "text/plain": [
       "             author_id    user_type  is_low_cred\n",
       "0  1000141948269678592         both     0.034608\n",
       "1            101779040  influential     0.006009\n",
       "2  1018425398869282817         both     0.342995\n",
       "4  1037648264672079872  influential     0.010982\n",
       "5  1043185714437992449  influential     0.000489"
      ]
     },
     "execution_count": 4,
     "metadata": {},
     "output_type": "execute_result"
    }
   ],
   "source": [
    "inf_frame.head()"
   ]
  },
  {
   "cell_type": "code",
   "execution_count": 5,
   "metadata": {},
   "outputs": [
    {
     "data": {
      "text/html": [
       "<div>\n",
       "<style scoped>\n",
       "    .dataframe tbody tr th:only-of-type {\n",
       "        vertical-align: middle;\n",
       "    }\n",
       "\n",
       "    .dataframe tbody tr th {\n",
       "        vertical-align: top;\n",
       "    }\n",
       "\n",
       "    .dataframe thead th {\n",
       "        text-align: right;\n",
       "    }\n",
       "</style>\n",
       "<table border=\"1\" class=\"dataframe\">\n",
       "  <thead>\n",
       "    <tr style=\"text-align: right;\">\n",
       "      <th></th>\n",
       "      <th>author_id</th>\n",
       "      <th>user_type</th>\n",
       "      <th>is_low_cred</th>\n",
       "    </tr>\n",
       "  </thead>\n",
       "  <tbody>\n",
       "    <tr>\n",
       "      <th>0</th>\n",
       "      <td>1000141948269678592</td>\n",
       "      <td>both</td>\n",
       "      <td>0.034608</td>\n",
       "    </tr>\n",
       "    <tr>\n",
       "      <th>2</th>\n",
       "      <td>1018425398869282817</td>\n",
       "      <td>both</td>\n",
       "      <td>0.342995</td>\n",
       "    </tr>\n",
       "    <tr>\n",
       "      <th>3</th>\n",
       "      <td>1036239330984054784</td>\n",
       "      <td>fiber</td>\n",
       "      <td>0.104710</td>\n",
       "    </tr>\n",
       "    <tr>\n",
       "      <th>6</th>\n",
       "      <td>1071493866489044993</td>\n",
       "      <td>fiber</td>\n",
       "      <td>0.033240</td>\n",
       "    </tr>\n",
       "    <tr>\n",
       "      <th>7</th>\n",
       "      <td>1088817055602757633</td>\n",
       "      <td>fiber</td>\n",
       "      <td>0.001420</td>\n",
       "    </tr>\n",
       "  </tbody>\n",
       "</table>\n",
       "</div>"
      ],
      "text/plain": [
       "             author_id user_type  is_low_cred\n",
       "0  1000141948269678592      both     0.034608\n",
       "2  1018425398869282817      both     0.342995\n",
       "3  1036239330984054784     fiber     0.104710\n",
       "6  1071493866489044993     fiber     0.033240\n",
       "7  1088817055602757633     fiber     0.001420"
      ]
     },
     "execution_count": 5,
     "metadata": {},
     "output_type": "execute_result"
    }
   ],
   "source": [
    "fib_frame.head()"
   ]
  },
  {
   "cell_type": "markdown",
   "metadata": {},
   "source": [
    "### Now we fix the user type names"
   ]
  },
  {
   "cell_type": "code",
   "execution_count": 6,
   "metadata": {},
   "outputs": [],
   "source": [
    "inf_frame.loc[:, \"user_type\"] = \"Influence\"\n",
    "fib_frame.loc[:, \"user_type\"] = \"FIB-index\""
   ]
  },
  {
   "cell_type": "code",
   "execution_count": 7,
   "metadata": {},
   "outputs": [
    {
     "data": {
      "text/html": [
       "<div>\n",
       "<style scoped>\n",
       "    .dataframe tbody tr th:only-of-type {\n",
       "        vertical-align: middle;\n",
       "    }\n",
       "\n",
       "    .dataframe tbody tr th {\n",
       "        vertical-align: top;\n",
       "    }\n",
       "\n",
       "    .dataframe thead th {\n",
       "        text-align: right;\n",
       "    }\n",
       "</style>\n",
       "<table border=\"1\" class=\"dataframe\">\n",
       "  <thead>\n",
       "    <tr style=\"text-align: right;\">\n",
       "      <th></th>\n",
       "      <th>author_id</th>\n",
       "      <th>user_type</th>\n",
       "      <th>is_low_cred</th>\n",
       "    </tr>\n",
       "  </thead>\n",
       "  <tbody>\n",
       "    <tr>\n",
       "      <th>0</th>\n",
       "      <td>1000141948269678592</td>\n",
       "      <td>Influence</td>\n",
       "      <td>0.034608</td>\n",
       "    </tr>\n",
       "    <tr>\n",
       "      <th>1</th>\n",
       "      <td>101779040</td>\n",
       "      <td>Influence</td>\n",
       "      <td>0.006009</td>\n",
       "    </tr>\n",
       "    <tr>\n",
       "      <th>2</th>\n",
       "      <td>1018425398869282817</td>\n",
       "      <td>Influence</td>\n",
       "      <td>0.342995</td>\n",
       "    </tr>\n",
       "    <tr>\n",
       "      <th>4</th>\n",
       "      <td>1037648264672079872</td>\n",
       "      <td>Influence</td>\n",
       "      <td>0.010982</td>\n",
       "    </tr>\n",
       "    <tr>\n",
       "      <th>5</th>\n",
       "      <td>1043185714437992449</td>\n",
       "      <td>Influence</td>\n",
       "      <td>0.000489</td>\n",
       "    </tr>\n",
       "  </tbody>\n",
       "</table>\n",
       "</div>"
      ],
      "text/plain": [
       "             author_id  user_type  is_low_cred\n",
       "0  1000141948269678592  Influence     0.034608\n",
       "1            101779040  Influence     0.006009\n",
       "2  1018425398869282817  Influence     0.342995\n",
       "4  1037648264672079872  Influence     0.010982\n",
       "5  1043185714437992449  Influence     0.000489"
      ]
     },
     "execution_count": 7,
     "metadata": {},
     "output_type": "execute_result"
    }
   ],
   "source": [
    "inf_frame.head()\n"
   ]
  },
  {
   "cell_type": "code",
   "execution_count": 8,
   "metadata": {},
   "outputs": [
    {
     "data": {
      "text/html": [
       "<div>\n",
       "<style scoped>\n",
       "    .dataframe tbody tr th:only-of-type {\n",
       "        vertical-align: middle;\n",
       "    }\n",
       "\n",
       "    .dataframe tbody tr th {\n",
       "        vertical-align: top;\n",
       "    }\n",
       "\n",
       "    .dataframe thead th {\n",
       "        text-align: right;\n",
       "    }\n",
       "</style>\n",
       "<table border=\"1\" class=\"dataframe\">\n",
       "  <thead>\n",
       "    <tr style=\"text-align: right;\">\n",
       "      <th></th>\n",
       "      <th>author_id</th>\n",
       "      <th>user_type</th>\n",
       "      <th>is_low_cred</th>\n",
       "    </tr>\n",
       "  </thead>\n",
       "  <tbody>\n",
       "    <tr>\n",
       "      <th>0</th>\n",
       "      <td>1000141948269678592</td>\n",
       "      <td>FIB-index</td>\n",
       "      <td>0.034608</td>\n",
       "    </tr>\n",
       "    <tr>\n",
       "      <th>2</th>\n",
       "      <td>1018425398869282817</td>\n",
       "      <td>FIB-index</td>\n",
       "      <td>0.342995</td>\n",
       "    </tr>\n",
       "    <tr>\n",
       "      <th>3</th>\n",
       "      <td>1036239330984054784</td>\n",
       "      <td>FIB-index</td>\n",
       "      <td>0.104710</td>\n",
       "    </tr>\n",
       "    <tr>\n",
       "      <th>6</th>\n",
       "      <td>1071493866489044993</td>\n",
       "      <td>FIB-index</td>\n",
       "      <td>0.033240</td>\n",
       "    </tr>\n",
       "    <tr>\n",
       "      <th>7</th>\n",
       "      <td>1088817055602757633</td>\n",
       "      <td>FIB-index</td>\n",
       "      <td>0.001420</td>\n",
       "    </tr>\n",
       "  </tbody>\n",
       "</table>\n",
       "</div>"
      ],
      "text/plain": [
       "             author_id  user_type  is_low_cred\n",
       "0  1000141948269678592  FIB-index     0.034608\n",
       "2  1018425398869282817  FIB-index     0.342995\n",
       "3  1036239330984054784  FIB-index     0.104710\n",
       "6  1071493866489044993  FIB-index     0.033240\n",
       "7  1088817055602757633  FIB-index     0.001420"
      ]
     },
     "execution_count": 8,
     "metadata": {},
     "output_type": "execute_result"
    }
   ],
   "source": [
    "fib_frame.head()"
   ]
  },
  {
   "cell_type": "code",
   "execution_count": 9,
   "metadata": {},
   "outputs": [
    {
     "data": {
      "text/plain": [
       "91"
      ]
     },
     "execution_count": 9,
     "metadata": {},
     "output_type": "execute_result"
    }
   ],
   "source": [
    "len(inf_frame[\"author_id\"].unique())"
   ]
  },
  {
   "cell_type": "code",
   "execution_count": 10,
   "metadata": {},
   "outputs": [
    {
     "data": {
      "text/plain": [
       "84"
      ]
     },
     "execution_count": 10,
     "metadata": {},
     "output_type": "execute_result"
    }
   ],
   "source": [
    "len(fib_frame[\"author_id\"].unique())"
   ]
  },
  {
   "cell_type": "code",
   "execution_count": 11,
   "metadata": {},
   "outputs": [
    {
     "name": "stdout",
     "output_type": "stream",
     "text": [
      "Mann Whitney U\n",
      "--------------------\n",
      "\t- Statistic : 2783.5\n",
      "\t- pvalue    : 0.0019341235605159842\n"
     ]
    }
   ],
   "source": [
    "print(\"Mann Whitney U\")\n",
    "print(\"-\" * 20)\n",
    "\n",
    "statistic, p = stats.mannwhitneyu(\n",
    "    inf_frame[\"is_low_cred\"],\n",
    "    fib_frame[\"is_low_cred\"],\n",
    ")\n",
    "print(f\"\\t- Statistic : {statistic}\")\n",
    "print(f\"\\t- pvalue    : {p}\")"
   ]
  },
  {
   "cell_type": "markdown",
   "metadata": {},
   "source": [
    "### Now we combine these two frames."
   ]
  },
  {
   "cell_type": "code",
   "execution_count": 12,
   "metadata": {},
   "outputs": [],
   "source": [
    "user_low_cred_sharing_combined = pd.concat([inf_frame, fib_frame])"
   ]
  },
  {
   "cell_type": "code",
   "execution_count": 13,
   "metadata": {},
   "outputs": [
    {
     "data": {
      "text/plain": [
       "0      1000141948269678592\n",
       "1                101779040\n",
       "2      1018425398869282817\n",
       "4      1037648264672079872\n",
       "5      1043185714437992449\n",
       "              ...         \n",
       "115              878916812\n",
       "116     895286614431346688\n",
       "118     921880207870459904\n",
       "119               92928883\n",
       "120               94120026\n",
       "Name: author_id, Length: 175, dtype: int64"
      ]
     },
     "execution_count": 13,
     "metadata": {},
     "output_type": "execute_result"
    }
   ],
   "source": [
    "user_low_cred_sharing_combined.author_id"
   ]
  },
  {
   "cell_type": "code",
   "execution_count": 14,
   "metadata": {},
   "outputs": [
    {
     "data": {
      "text/html": [
       "<div>\n",
       "<style scoped>\n",
       "    .dataframe tbody tr th:only-of-type {\n",
       "        vertical-align: middle;\n",
       "    }\n",
       "\n",
       "    .dataframe tbody tr th {\n",
       "        vertical-align: top;\n",
       "    }\n",
       "\n",
       "    .dataframe thead th {\n",
       "        text-align: right;\n",
       "    }\n",
       "</style>\n",
       "<table border=\"1\" class=\"dataframe\">\n",
       "  <thead>\n",
       "    <tr style=\"text-align: right;\">\n",
       "      <th></th>\n",
       "      <th>author_id</th>\n",
       "      <th>user_type</th>\n",
       "      <th>is_low_cred</th>\n",
       "    </tr>\n",
       "  </thead>\n",
       "  <tbody>\n",
       "    <tr>\n",
       "      <th>0</th>\n",
       "      <td>1000141948269678592</td>\n",
       "      <td>Influence</td>\n",
       "      <td>0.034608</td>\n",
       "    </tr>\n",
       "    <tr>\n",
       "      <th>1</th>\n",
       "      <td>101779040</td>\n",
       "      <td>Influence</td>\n",
       "      <td>0.006009</td>\n",
       "    </tr>\n",
       "    <tr>\n",
       "      <th>2</th>\n",
       "      <td>1018425398869282817</td>\n",
       "      <td>Influence</td>\n",
       "      <td>0.342995</td>\n",
       "    </tr>\n",
       "    <tr>\n",
       "      <th>4</th>\n",
       "      <td>1037648264672079872</td>\n",
       "      <td>Influence</td>\n",
       "      <td>0.010982</td>\n",
       "    </tr>\n",
       "    <tr>\n",
       "      <th>5</th>\n",
       "      <td>1043185714437992449</td>\n",
       "      <td>Influence</td>\n",
       "      <td>0.000489</td>\n",
       "    </tr>\n",
       "    <tr>\n",
       "      <th>...</th>\n",
       "      <td>...</td>\n",
       "      <td>...</td>\n",
       "      <td>...</td>\n",
       "    </tr>\n",
       "    <tr>\n",
       "      <th>115</th>\n",
       "      <td>878916812</td>\n",
       "      <td>FIB-index</td>\n",
       "      <td>0.043129</td>\n",
       "    </tr>\n",
       "    <tr>\n",
       "      <th>116</th>\n",
       "      <td>895286614431346688</td>\n",
       "      <td>FIB-index</td>\n",
       "      <td>0.021170</td>\n",
       "    </tr>\n",
       "    <tr>\n",
       "      <th>118</th>\n",
       "      <td>921880207870459904</td>\n",
       "      <td>FIB-index</td>\n",
       "      <td>0.246560</td>\n",
       "    </tr>\n",
       "    <tr>\n",
       "      <th>119</th>\n",
       "      <td>92928883</td>\n",
       "      <td>FIB-index</td>\n",
       "      <td>0.020007</td>\n",
       "    </tr>\n",
       "    <tr>\n",
       "      <th>120</th>\n",
       "      <td>94120026</td>\n",
       "      <td>FIB-index</td>\n",
       "      <td>0.016102</td>\n",
       "    </tr>\n",
       "  </tbody>\n",
       "</table>\n",
       "<p>175 rows × 3 columns</p>\n",
       "</div>"
      ],
      "text/plain": [
       "               author_id  user_type  is_low_cred\n",
       "0    1000141948269678592  Influence     0.034608\n",
       "1              101779040  Influence     0.006009\n",
       "2    1018425398869282817  Influence     0.342995\n",
       "4    1037648264672079872  Influence     0.010982\n",
       "5    1043185714437992449  Influence     0.000489\n",
       "..                   ...        ...          ...\n",
       "115            878916812  FIB-index     0.043129\n",
       "116   895286614431346688  FIB-index     0.021170\n",
       "118   921880207870459904  FIB-index     0.246560\n",
       "119             92928883  FIB-index     0.020007\n",
       "120             94120026  FIB-index     0.016102\n",
       "\n",
       "[175 rows x 3 columns]"
      ]
     },
     "execution_count": 14,
     "metadata": {},
     "output_type": "execute_result"
    }
   ],
   "source": [
    "user_low_cred_sharing_combined"
   ]
  },
  {
   "cell_type": "code",
   "execution_count": 15,
   "metadata": {},
   "outputs": [],
   "source": [
    "user_low_cred_sharing_combined.user_type = user_low_cred_sharing_combined.user_type.map({\n",
    "    \"Influence\" : \"Influence\",\n",
    "    \"FIB-index\" : \"h-index\"\n",
    "})"
   ]
  },
  {
   "cell_type": "code",
   "execution_count": 16,
   "metadata": {},
   "outputs": [
    {
     "data": {
      "image/png": "[encoded data removed]",
      "text/plain": [
       "<Figure size 1200x200 with 1 Axes>"
      ]
     },
     "metadata": {},
     "output_type": "display_data"
    }
   ],
   "source": [
    "mpl.rcParams['font.size'] = 14\n",
    "\n",
    "fig, ax = plt.subplots(figsize=(12,2))\n",
    "\n",
    "# Add points\n",
    "sns.stripplot(\n",
    "    x=\"is_low_cred\",\n",
    "    y=\"user_type\",\n",
    "    data=user_low_cred_sharing_combined,\n",
    "    order=['h-index', \"Influence\"],\n",
    "    hue='user_type',\n",
    "    palette={'h-index':'#E69F00', \"Influence\":'#56B4E9'},\n",
    "    alpha=.5,\n",
    "    jitter=.2,\n",
    "    ax = ax,\n",
    "    legend=None,\n",
    ")\n",
    "\n",
    "# Add boxes\n",
    "sns.boxplot(\n",
    "    x=\"is_low_cred\",\n",
    "    y=\"user_type\",\n",
    "    data=user_low_cred_sharing_combined,\n",
    "    order=['h-index', \"Influence\"],\n",
    "    fliersize=0,\n",
    "    ax = ax,\n",
    "    boxprops = {'facecolor':\"none\", 'linewidth':2},\n",
    "    whiskerprops = {'linewidth':2},\n",
    "    medianprops={\"color\": \"k\", \"linewidth\": 2},\n",
    "    showcaps=False\n",
    "    \n",
    ")\n",
    "\n",
    "# Remove border\n",
    "ax.spines['top'].set_visible(False)\n",
    "ax.spines['right'].set_visible(False)\n",
    "ax.spines['left'].set_visible(False)\n",
    "ax.spines['bottom'].set_visible(False)\n",
    "\n",
    "# Add vertical grid lines\n",
    "ax.grid(axis='x')\n",
    "\n",
    "# Control xlim to provide space for points at edges\n",
    "ax.set_xlim(-0.01,1.01)\n",
    "\n",
    "# Unnecessary ticks\n",
    "ax.tick_params(size=0)\n",
    "\n",
    "# Set labels\n",
    "ax.set_ylabel(None)\n",
    "ax.set_xlabel(\"Proportion of shared sources that are low credibility\")\n",
    "\n",
    "\n",
    "fig.savefig(\n",
    "    \"../figures/misinfo-sharing-behaviors.pdf\",\n",
    "    bbox_inches='tight',\n",
    "    dpi=600\n",
    ")"
   ]
  },
  {
   "cell_type": "code",
   "execution_count": null,
   "metadata": {},
   "outputs": [],
   "source": []
  },
  {
   "cell_type": "code",
   "execution_count": null,
   "metadata": {},
   "outputs": [],
   "source": []
  },
  {
   "cell_type": "code",
   "execution_count": null,
   "metadata": {},
   "outputs": [],
   "source": []
  },
  {
   "cell_type": "code",
   "execution_count": null,
   "metadata": {},
   "outputs": [],
   "source": []
  },
  {
   "cell_type": "code",
   "execution_count": 17,
   "metadata": {},
   "outputs": [],
   "source": [
    "inf_prop_misinfo_shared = list(user_low_cred_sharing_combined.loc[\n",
    "    user_low_cred_sharing_combined[\"user_type\"] == \"Influence\",\n",
    "    \"is_low_cred\"\n",
    "])\n",
    "\n",
    "fib_prop_misinfo_shared = list(user_low_cred_sharing_combined.loc[\n",
    "    user_low_cred_sharing_combined[\"user_type\"] == \"h-index\",\n",
    "    \"is_low_cred\"\n",
    "])"
   ]
  },
  {
   "cell_type": "code",
   "execution_count": 18,
   "metadata": {},
   "outputs": [
    {
     "data": {
      "text/plain": [
       "MannwhitneyuResult(statistic=4860.5, pvalue=0.0019341235605159842)"
      ]
     },
     "execution_count": 18,
     "metadata": {},
     "output_type": "execute_result"
    }
   ],
   "source": [
    "mannwhitneyu(fib_frame.is_low_cred, inf_frame.is_low_cred)"
   ]
  },
  {
   "cell_type": "code",
   "execution_count": 19,
   "metadata": {},
   "outputs": [
    {
     "name": "stdout",
     "output_type": "stream",
     "text": [
      "Influence:\n",
      "Mean: 0.17\n",
      "Median: 0.03\n",
      "\n",
      "FIB:\n",
      "Mean: 0.22\n",
      "Median: 0.07\n"
     ]
    }
   ],
   "source": [
    "print(\"Influence:\")\n",
    "print(f\"Mean: {np.mean(inf_prop_misinfo_shared):.2f}\")\n",
    "print(f\"Median: {np.median(inf_prop_misinfo_shared):.2f}\")\n",
    "\n",
    "print(\"\\nFIB:\")\n",
    "print(f\"Mean: {np.mean(fib_prop_misinfo_shared):.2f}\")\n",
    "print(f\"Median: {np.median(fib_prop_misinfo_shared):.2f}\")\n",
    "\n"
   ]
  },
  {
   "cell_type": "code",
   "execution_count": 20,
   "metadata": {},
   "outputs": [
    {
     "data": {
      "text/plain": [
       "0.21853811589443742"
      ]
     },
     "execution_count": 20,
     "metadata": {},
     "output_type": "execute_result"
    }
   ],
   "source": [
    "fib_frame.is_low_cred.mean()"
   ]
  },
  {
   "cell_type": "code",
   "execution_count": 21,
   "metadata": {},
   "outputs": [
    {
     "data": {
      "text/plain": [
       "0.1738708523630669"
      ]
     },
     "execution_count": 21,
     "metadata": {},
     "output_type": "execute_result"
    }
   ],
   "source": [
    "inf_frame.is_low_cred.mean()"
   ]
  },
  {
   "cell_type": "code",
   "execution_count": 22,
   "metadata": {},
   "outputs": [
    {
     "data": {
      "text/plain": [
       "0.0662040994625332"
      ]
     },
     "execution_count": 22,
     "metadata": {},
     "output_type": "execute_result"
    }
   ],
   "source": [
    "fib_frame.is_low_cred.median()"
   ]
  },
  {
   "cell_type": "code",
   "execution_count": 23,
   "metadata": {},
   "outputs": [
    {
     "data": {
      "text/plain": [
       "0.0302491103202846"
      ]
     },
     "execution_count": 23,
     "metadata": {},
     "output_type": "execute_result"
    }
   ],
   "source": [
    "inf_frame.is_low_cred.median()"
   ]
  },
  {
   "cell_type": "code",
   "execution_count": 24,
   "metadata": {},
   "outputs": [
    {
     "name": "stdout",
     "output_type": "stream",
     "text": [
      "\t- CI (95%; 5k samples) : [-0.04  0.13]\n",
      "\t- Cohen's d            : 0.16\n",
      "\n"
     ]
    }
   ],
   "source": [
    "ci = mean_diff_bootstrap_ci(\n",
    "    np.array(fib_frame.is_low_cred),\n",
    "    np.array(inf_frame.is_low_cred),\n",
    "    n_samples = 1000,\n",
    "    d_only=False,\n",
    ")\n",
    "cohens = cohen_d(np.array(fib_frame.is_low_cred), inf_frame.is_low_cred)\n",
    "\n",
    "print(f\"\\t- CI (95%; 5k samples) : {np.round(ci,2)}\")\n",
    "print(f\"\\t- Cohen's d            : {np.round(cohens,2)}\\n\")"
   ]
  },
  {
   "cell_type": "code",
   "execution_count": null,
   "metadata": {},
   "outputs": [],
   "source": []
  }
 ],
 "metadata": {
  "kernelspec": {
   "display_name": "Python 3 (ipykernel)",
   "language": "python",
   "name": "python3"
  },
  "language_info": {
   "codemirror_mode": {
    "name": "ipython",
    "version": 3
   },
   "file_extension": ".py",
   "mimetype": "text/x-python",
   "name": "python",
   "nbconvert_exporter": "python",
   "pygments_lexer": "ipython3",
   "version": "3.9.12"
  }
 },
 "nbformat": 4,
 "nbformat_minor": 4
}
